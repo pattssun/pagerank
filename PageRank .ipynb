{
 "cells": [
  {
   "cell_type": "markdown",
   "id": "d10a2120",
   "metadata": {},
   "source": [
    "# PageRank \n",
    "## Run the PageRank algorithm, modify its input, and evaluate the consequences on its output"
   ]
  },
  {
   "cell_type": "markdown",
   "id": "05cc3500",
   "metadata": {},
   "source": [
    "Based on a gist by Sebastien Bratieres and on the Wikipedia page for PageRank.\n",
    "\n",
    "PageRank was the website sorting algorithm that cemented Google's early success in the 1990s, when it displayed webpages with the highest PageRank first. Its main idea is that important webpages are likely to receive many links from other important webpages. The PageRank algorithm can be seen as computing the probability that a person who randomly clicks on links and follows them will arrive at a particular website. PageRank includes a dampening factor that represents the probability that a person will actually keep clicking as opposed to stopping where they are. It’s usually set to 0.85.\n",
    "\n",
    "Incoming links lift a website's rank if they come from higher-ranked sites, particularly if these sites have few outgoing links. "
   ]
  },
  {
   "cell_type": "markdown",
   "id": "7dbd02e4",
   "metadata": {},
   "source": [
    "![PageRank illustration](http://upload.wikimedia.org/wikipedia/commons/f/fb/PageRanks-Example.svg)"
   ]
  },
  {
   "cell_type": "code",
   "execution_count": 1,
   "id": "5836f731",
   "metadata": {},
   "outputs": [
    {
     "name": "stdout",
     "output_type": "stream",
     "text": [
      "[[1. 0. 0. 1. 0. 0. 0. 0. 0. 0. 0.]\n",
      " [1. 0. 1. 1. 1. 1. 1. 1. 1. 0. 0.]\n",
      " [1. 1. 0. 0. 0. 0. 0. 0. 0. 0. 0.]\n",
      " [1. 0. 0. 0. 1. 0. 0. 0. 0. 0. 0.]\n",
      " [1. 0. 0. 0. 0. 1. 1. 1. 1. 1. 1.]\n",
      " [1. 0. 0. 0. 1. 0. 0. 0. 0. 0. 0.]\n",
      " [1. 0. 0. 0. 0. 0. 0. 0. 0. 0. 0.]\n",
      " [1. 0. 0. 0. 0. 0. 0. 0. 0. 0. 0.]\n",
      " [1. 0. 0. 0. 0. 0. 0. 0. 0. 0. 0.]\n",
      " [1. 0. 0. 0. 0. 0. 0. 0. 0. 0. 0.]\n",
      " [1. 0. 0. 0. 0. 0. 0. 0. 0. 0. 0.]]\n"
     ]
    }
   ],
   "source": [
    "# Encode the links present on this graph as a count matrix M_counts\n",
    "\n",
    "import numpy as np\n",
    "n_pages = 11 # numbering pages A through K as 0 to 10\n",
    "M_counts = np.zeros((n_pages, n_pages)) # will hold the number of link counts (assumed 0 or 1)\n",
    "# columns = starting page, row = destination page, ie M_ij = whether or not there is a link from j to i\n",
    "\n",
    "# create variable names for each page index for clarity\n",
    "pageA = 0\n",
    "pageB = 1\n",
    "pageC = 2\n",
    "pageD = 3\n",
    "pageE = 4\n",
    "pageF = 5\n",
    "pageG = 6\n",
    "pageH = 7\n",
    "pageI = 8\n",
    "pageJ = 9\n",
    "pageK = 10\n",
    "\n",
    "M_counts[:,pageA] = 1 # page 0 (A in the graphic) is a sink because it has no outgoing links at all; \n",
    "# however, M cannot contain an all-zero column, so do as if A was linking to all other pages (ie put 1's everywhere)\n",
    "M_counts[pageA,pageD] = 1  # to A from D\n",
    "M_counts[pageB,pageC] = 1  # to B from C\n",
    "M_counts[pageB,pageD] = 1  # to B from D\n",
    "M_counts[pageB,pageE] = 1  # to B from E\n",
    "M_counts[pageB,pageF] = 1  # to B from F\n",
    "M_counts[pageB,pageG] = 1  # to B from G\n",
    "M_counts[pageB,pageH] = 1  # to B from H\n",
    "M_counts[pageB,pageI] = 1  # to B from I\n",
    "M_counts[pageC,pageB] = 1  # to C from B\n",
    "M_counts[pageD,pageE] = 1  # to D from E\n",
    "M_counts[pageE,pageF] = 1  # to E from F\n",
    "M_counts[pageE,pageG] = 1  # to E from G\n",
    "M_counts[pageE,pageH] = 1  # to E from H\n",
    "M_counts[pageE,pageI] = 1  # to E from I\n",
    "M_counts[pageE,pageJ] = 1  # to E from J\n",
    "M_counts[pageE,pageK] = 1  # to E from K\n",
    "M_counts[pageF,pageE] = 1  # to F from E\n",
    "\n",
    "print(M_counts)"
   ]
  },
  {
   "cell_type": "code",
   "execution_count": 2,
   "id": "f185fe67",
   "metadata": {},
   "outputs": [
    {
     "name": "stdout",
     "output_type": "stream",
     "text": [
      "[[0.091 0.    0.    0.5   0.    0.    0.    0.    0.    0.    0.   ]\n",
      " [0.091 0.    1.    0.5   0.333 0.5   0.5   0.5   0.5   0.    0.   ]\n",
      " [0.091 1.    0.    0.    0.    0.    0.    0.    0.    0.    0.   ]\n",
      " [0.091 0.    0.    0.    0.333 0.    0.    0.    0.    0.    0.   ]\n",
      " [0.091 0.    0.    0.    0.    0.5   0.5   0.5   0.5   1.    1.   ]\n",
      " [0.091 0.    0.    0.    0.333 0.    0.    0.    0.    0.    0.   ]\n",
      " [0.091 0.    0.    0.    0.    0.    0.    0.    0.    0.    0.   ]\n",
      " [0.091 0.    0.    0.    0.    0.    0.    0.    0.    0.    0.   ]\n",
      " [0.091 0.    0.    0.    0.    0.    0.    0.    0.    0.    0.   ]\n",
      " [0.091 0.    0.    0.    0.    0.    0.    0.    0.    0.    0.   ]\n",
      " [0.091 0.    0.    0.    0.    0.    0.    0.    0.    0.    0.   ]]\n"
     ]
    }
   ],
   "source": [
    "# Convert 'M_counts' to 'M' below, by dividing each column by its sum, i.e. make sure columns sum to 1\n",
    "\n",
    "M = np.empty((n_pages, n_pages))\n",
    "for j in range(n_pages):\n",
    "    M[:,j] = M_counts[:,j] / M_counts[:,j].sum()\n",
    "np.set_printoptions(precision=3)\n",
    "print(M)"
   ]
  },
  {
   "cell_type": "code",
   "execution_count": 3,
   "id": "a3541d01",
   "metadata": {},
   "outputs": [],
   "source": [
    "# Check that M has the right format to be used by the PageRank function\n",
    "\n",
    "def check_M(M):\n",
    "    n_pages = M.shape[0] # n_pages is the number of rows of M\n",
    "    np.testing.assert_equal(M.shape[0], M.shape[1], err_msg = 'M should be square')\n",
    "    np.testing.assert_array_almost_equal(M.sum(axis=0), np.ones((n_pages)), \n",
    "                                         err_msg = 'assert each column sums to one (M is assumed column-stochastic)')\n",
    "    for j in range(n_pages):\n",
    "        M_column = M[:,j]\n",
    "        n_nonzero = np.count_nonzero(M[:,j])\n",
    "        np.testing.assert_array_almost_equal(M_column[M_column.nonzero()], np.ones((n_nonzero)) / n_nonzero,\n",
    "                                             err_msg = 'in column %g, all non-zero entries should be equal (and equal to 1 divided by their number)' % j)\n",
    "\n",
    "check_M(M) # will produce error if M does not have the right format"
   ]
  },
  {
   "cell_type": "code",
   "execution_count": 4,
   "id": "2bd1d6e1",
   "metadata": {},
   "outputs": [],
   "source": [
    "def pagerank(M, d=0.85, square_error=1e-8):\n",
    "    \"\"\"\n",
    "    M : the adjacency matrix of the pages. It is assumed to be column-stochastic (i.e. column sum to 1); all links have equal weight.\n",
    "    A page with no outgoing links (sink) is represented as a page with outgoing links to each other page (ie restart page).\n",
    "    d: damping factor (this is not in the textbook, but commonly applied in PageRank implementations; it represents the probability that a user stops clicking)\n",
    "    square_error : the algorithm iterates until the difference between two successive PageRank vectors v is less than this (in squared norm)\n",
    "    returns the PageRanks of all pages\n",
    "    \"\"\"\n",
    "    n_pages = M.shape[0] # n_pages is the number of rows of M\n",
    "    v = np.random.rand(n_pages) # initialize to random vector\n",
    "    v = v / v.sum() # make v sum to 1\n",
    "    last_v = np.ones((n_pages)) # will contain the previous v\n",
    "    M_hat = d * M + (1-d)/n_pages * np.ones((n_pages, n_pages)) # this is the central PageRank equation\n",
    "    while np.square(v - last_v).sum() > square_error:\n",
    "        last_v = v\n",
    "        v = M_hat.dot(v) # at each iteration, progress one timestep\n",
    "    return v"
   ]
  },
  {
   "cell_type": "code",
   "execution_count": 5,
   "id": "bca9ede1",
   "metadata": {},
   "outputs": [
    {
     "name": "stdout",
     "output_type": "stream",
     "text": [
      "Result of running PageRank on M:\n",
      "Page A: 3.3%\n",
      "Page B: 38.4%\n",
      "Page C: 34.3%\n",
      "Page D: 3.9%\n",
      "Page E: 8.1%\n",
      "Page F: 3.9%\n",
      "Page G: 1.6%\n",
      "Page H: 1.6%\n",
      "Page I: 1.6%\n",
      "Page J: 1.6%\n"
     ]
    }
   ],
   "source": [
    "result = pagerank(M)\n",
    "print(\"Result of running PageRank on M:\")\n",
    "site_names = \"ABCDEFGHIJK\"\n",
    "for i in range(10):\n",
    "    print(\"Page\", site_names[i]+\":\", \"{:.1%}\".format(result[i]))"
   ]
  }
 ],
 "metadata": {
  "kernelspec": {
   "display_name": "Python 3",
   "language": "python",
   "name": "python3"
  },
  "language_info": {
   "codemirror_mode": {
    "name": "ipython",
    "version": 3
   },
   "file_extension": ".py",
   "mimetype": "text/x-python",
   "name": "python",
   "nbconvert_exporter": "python",
   "pygments_lexer": "ipython3",
   "version": "3.8.8"
  }
 },
 "nbformat": 4,
 "nbformat_minor": 5
}
